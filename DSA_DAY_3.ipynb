{
  "nbformat": 4,
  "nbformat_minor": 0,
  "metadata": {
    "colab": {
      "name": "DSA DAY 3.ipynb",
      "provenance": [],
      "authorship_tag": "ABX9TyMEoT5WWO157qmud/YD39Mz",
      "include_colab_link": true
    },
    "kernelspec": {
      "name": "python3",
      "display_name": "Python 3"
    }
  },
  "cells": [
    {
      "cell_type": "markdown",
      "metadata": {
        "id": "view-in-github",
        "colab_type": "text"
      },
      "source": [
        "<a href=\"https://colab.research.google.com/github/dileepchandhra/DSA-Letsupgrade/blob/main/DSA_DAY_3.ipynb\" target=\"_parent\"><img src=\"https://colab.research.google.com/assets/colab-badge.svg\" alt=\"Open In Colab\"/></a>"
      ]
    },
    {
      "cell_type": "markdown",
      "metadata": {
        "id": "X0JF0J8kNuLs"
      },
      "source": [
        "Write a function “insert_any()” for inserting a node at any given position of the linked list. Assume\r\n",
        "position starts at 0."
      ]
    },
    {
      "cell_type": "code",
      "metadata": {
        "colab": {
          "base_uri": "https://localhost:8080/"
        },
        "id": "rwmgrrLpOWKt",
        "outputId": "de337e26-62bd-4364-b222-2ca8e46e0192"
      },
      "source": [
        "class Node: \r\n",
        "\tdef __init__(self, data): \r\n",
        "\t\tself.data = data\r\n",
        "\t\tself.nextNode = None\r\n",
        "\r\n",
        "def getNode(data):\r\n",
        "\r\n",
        "\t# allocating space\r\n",
        "\tnewNode = Node(data)\r\n",
        "\treturn newNode;\r\n",
        "\r\n",
        "def insert_any(headNode, position, data): \r\n",
        "\thead = headNode\r\n",
        "\r\n",
        "\tif (position < 1):\t \r\n",
        "\t\tprint(\"Invalid position!\")\r\n",
        "\t\r\n",
        "\tif position == 1:\r\n",
        "\t\tnewNode = Node(data)\r\n",
        "\t\tnewNode.nextNode = headNode\r\n",
        "\t\thead = newNode\r\n",
        "\t\t\t\r\n",
        "\telse:\r\n",
        "\t\r\n",
        "\t\twhile (position != 0):\t\t \r\n",
        "\t\t\tposition -= 1\r\n",
        "\r\n",
        "\t\t\tif (position == 1):\r\n",
        "\r\n",
        "\t\t\t newNode = getNode(data)\r\n",
        "\r\n",
        "\t\t\t newNode.nextNode = headNode.nextNode\r\n",
        "\r\n",
        "\t\t\t headNode.nextNode = newNode\r\n",
        "\t\t\t break\r\n",
        "\t\t\t\r\n",
        "\t\t\theadNode = headNode.nextNode\r\n",
        "\t\t\tif headNode == None:\r\n",
        "\t\t\t\tbreak\t\t\r\n",
        "\t\tif position != 1:\r\n",
        "\t\t\tprint(\"position out of range\")\t \r\n",
        "\treturn head\r\n",
        " \r\n",
        "def printList(head):\r\n",
        "\twhile (head != None):\t \r\n",
        "\t\tprint(' ' + str(head.data), end = '')\r\n",
        "\t\thead = head.nextNode; \r\n",
        "\tprint()\r\n",
        "\t\r\n",
        "# Driver Code\r\n",
        "if __name__=='__main__':\r\n",
        "\t\r\n",
        "\thead = getNode(3);\r\n",
        "\thead.nextNode = getNode(5);\r\n",
        "\thead.nextNode.nextNode = getNode(8);\r\n",
        "\thead.nextNode.nextNode.nextNode = getNode(10);\r\n",
        "\tprint(\"Linked list before insertion: \", end='')\r\n",
        "\tprintList(head); \r\n",
        "\tdata = 12\r\n",
        "\tposition = 3;\r\n",
        "\thead = insert_any(head, position, data);\r\n",
        "\tprint(\"Linked list after insertion of 12 at position 3: \", end = '')\r\n",
        "\tprintList(head);\r\n",
        "\r\n",
        "\t# front of the linked list\r\n",
        "\tdata = 1\r\n",
        "\tposition = 1;\r\n",
        "\thead = insert_any(head, position, data);\r\n",
        "\tprint(\"Linked list after insertion of 1 at position 1: \", end = '')\r\n",
        "\tprintList(head);\r\n",
        "\r\n",
        "\t# insetion at end of the linked list\r\n",
        "\tdata = 15\r\n",
        "\tposition = 7;\r\n",
        "\thead = insert_any(head, position, data);\r\n",
        "\tprint(\"Linked list after insertion of 15 at position 7: \", end='')\r\n",
        "\tprintList(head);\r\n"
      ],
      "execution_count": 3,
      "outputs": [
        {
          "output_type": "stream",
          "text": [
            "Linked list before insertion:  3 5 8 10\n",
            "Linked list after insertion of 12 at position 3:  3 5 12 8 10\n",
            "Linked list after insertion of 1 at position 1:  1 3 5 12 8 10\n",
            "Linked list after insertion of 15 at position 7:  1 3 5 12 8 10 15\n"
          ],
          "name": "stdout"
        }
      ]
    },
    {
      "cell_type": "markdown",
      "metadata": {
        "id": "_vEDQzTqPvfP"
      },
      "source": [
        "Write a function “delete_beg()” for deleting a node from the beginning of the linked list."
      ]
    },
    {
      "cell_type": "code",
      "metadata": {
        "colab": {
          "base_uri": "https://localhost:8080/"
        },
        "id": "BJfJTvBGQPnV",
        "outputId": "e7d7f90e-c1d3-4d5b-f0a1-1f6a7dbe16ca"
      },
      "source": [
        "import sys \r\n",
        "\r\n",
        "class Node: \r\n",
        "\tdef __init__(self, data): \r\n",
        "\t\tself.data = data \r\n",
        "\t\tself.next = None\r\n",
        "\r\n",
        "def delete_beg(head): \r\n",
        "\tif not head: \r\n",
        "\t\treturn None\r\n",
        "\ttemp = head \r\n",
        "\r\n",
        "\thead = head.next\r\n",
        "\ttemp = None\r\n",
        "\treturn head \r\n",
        "\r\n",
        "def push(head, data): \r\n",
        "\tif not head: \r\n",
        "\t\treturn Node(data) \r\n",
        "\ttemp = Node(data) \r\n",
        "\ttemp.next = head \r\n",
        "\thead = temp \r\n",
        "\treturn head \r\n",
        "\r\n",
        "# Driver code \r\n",
        "if __name__=='__main__': \r\n",
        "\r\n",
        "\t# Start with the empty list \r\n",
        "\thead = None\r\n",
        "\r\n",
        "\t# Use push() function to construct \r\n",
        "\t# the below list 8 -> 23 -> 11 -> 29 -> 12 \r\n",
        "\thead = push(head, 12) \r\n",
        "\thead = push(head, 29) \r\n",
        "\thead = push(head, 11) \r\n",
        "\thead = push(head, 23) \r\n",
        "\thead = push(head, 8) \r\n",
        "\r\n",
        "\thead = delete_beg(head) \r\n",
        "\t\r\n",
        "\twhile(head): \r\n",
        "\t\tprint(\"{} \".format(head.data), end =\"\") \r\n",
        "\t\thead = head.next\r\n"
      ],
      "execution_count": 7,
      "outputs": [
        {
          "output_type": "stream",
          "text": [
            "23 11 29 12 "
          ],
          "name": "stdout"
        }
      ]
    },
    {
      "cell_type": "markdown",
      "metadata": {
        "id": "COHClUt3Qj70"
      },
      "source": [
        "Write a function “delete_end()” for deleting a node from the end of the linked list."
      ]
    },
    {
      "cell_type": "code",
      "metadata": {
        "colab": {
          "base_uri": "https://localhost:8080/"
        },
        "id": "IXjqFVhvRBrd",
        "outputId": "da2b4d7d-9056-4960-d42f-5fcb2944e6a1"
      },
      "source": [
        "import sys \r\n",
        "import math \r\n",
        " \r\n",
        "class Node: \r\n",
        "\tdef __init__(self, data): \r\n",
        "\t\tself.data = data \r\n",
        "\t\tself.next = None\r\n",
        "\r\n",
        "def push(head, data): \r\n",
        "\tif not head: \r\n",
        "\t\treturn Node(data) \r\n",
        "\ttemp = Node(data) \r\n",
        "\ttemp.next = head \r\n",
        "\thead = temp \r\n",
        "\treturn head \r\n",
        "\r\n",
        "def delete_end(head): \r\n",
        "\tif head == None: \r\n",
        "\t\treturn None\r\n",
        "\tif head.next == None: \r\n",
        "\t\thead = None\r\n",
        "\t\treturn None\r\n",
        "\tsecond_last = head \r\n",
        "\twhile(second_last.next.next): \r\n",
        "\t\tsecond_last = second_last.next\r\n",
        "\tsecond_last.next = None\r\n",
        "\treturn head \r\n",
        "\r\n",
        "# Driver code \r\n",
        "if __name__=='__main__': \r\n",
        " \r\n",
        "\thead = None\r\n",
        "\t# Use push() function to con \r\n",
        "\t# the below list 8 . 23 . 11 . 29 . 12 \r\n",
        "\thead = push(head, 12) \r\n",
        "\thead = push(head, 29) \r\n",
        "\thead = push(head, 11) \r\n",
        "\thead = push(head, 23) \r\n",
        "\thead = push(head, 8) \r\n",
        "\r\n",
        "\thead = delete_end(head) \r\n",
        "\twhile(head): \r\n",
        "\t\tprint(\"{} \".format(head.data), end =\"\") \r\n",
        "\t\thead = head.next\r\n"
      ],
      "execution_count": 8,
      "outputs": [
        {
          "output_type": "stream",
          "text": [
            "8 23 11 29 "
          ],
          "name": "stdout"
        }
      ]
    }
  ]
}