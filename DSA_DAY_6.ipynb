{
  "nbformat": 4,
  "nbformat_minor": 0,
  "metadata": {
    "colab": {
      "name": "DSA DAY 6.ipynb",
      "provenance": [],
      "authorship_tag": "ABX9TyOzJ0SKsAoLNB0iU5ytOi5P",
      "include_colab_link": true
    },
    "kernelspec": {
      "name": "python3",
      "display_name": "Python 3"
    }
  },
  "cells": [
    {
      "cell_type": "markdown",
      "metadata": {
        "id": "view-in-github",
        "colab_type": "text"
      },
      "source": [
        "<a href=\"https://colab.research.google.com/github/dileepchandhra/DSA-Letsupgrade/blob/main/DSA_DAY_6.ipynb\" target=\"_parent\"><img src=\"https://colab.research.google.com/assets/colab-badge.svg\" alt=\"Open In Colab\"/></a>"
      ]
    },
    {
      "cell_type": "markdown",
      "metadata": {
        "id": "u1H2_164gfCM"
      },
      "source": [
        "Write a function to find the maximum element in the stack."
      ]
    },
    {
      "cell_type": "code",
      "metadata": {
        "colab": {
          "base_uri": "https://localhost:8080/"
        },
        "id": "wNq58LQGgcN8",
        "outputId": "81624984-dc20-469d-d2ae-06469c504c53"
      },
      "source": [
        "# Class to make a Node \r\n",
        "class Node: \r\n",
        "\t#Constructor which assign argument to nade's value \r\n",
        "\tdef __init__(self, value): \r\n",
        "\t\tself.value = value \r\n",
        "\t\tself.next = None\r\n",
        "\t\r\n",
        "\t# This method returns the string representation of the object. \r\n",
        "\tdef __str__(self): \r\n",
        "\t\treturn \"Node({})\".format(self.value) \r\n",
        "\t\r\n",
        "\t# __repr__ is same as __str__ \r\n",
        "\t__repr__ = __str__ \r\n",
        "\t\r\n",
        "\r\n",
        "class Stack: \r\n",
        "\t# Stack Constructor initialise top of stack and counter. \r\n",
        "\tdef __init__(self): \r\n",
        "\t\tself.top = None\r\n",
        "\t\tself.count = 0\r\n",
        "\t\tself.maximum = None\r\n",
        "\t\t\r\n",
        "\t#This method returns the string representation of the object (stack). \r\n",
        "\tdef __str__(self): \r\n",
        "\t\ttemp=self.top \r\n",
        "\t\tout=[] \r\n",
        "\t\twhile temp: \r\n",
        "\t\t\tout.append(str(temp.value)) \r\n",
        "\t\t\ttemp=temp.next\r\n",
        "\t\tout='\\n'.join(out) \r\n",
        "\t\treturn ('Top {} \\n\\nStack :\\n{}'.format(self.top,out)) \r\n",
        "\t\t\r\n",
        "\t# __repr__ is same as __str__ \r\n",
        "\t__repr__=__str__ \r\n",
        "\t\r\n",
        "\t#This method is used to get minimum element of stack \r\n",
        "\tdef getMax(self): \r\n",
        "\t\tif self.top is None: \r\n",
        "\t\t\treturn \"Stack is empty\"\r\n",
        "\t\telse: \r\n",
        "\t\t\tprint(\"Maximum Element in the stack is: {}\" .format(self.maximum)) \r\n",
        "\r\n",
        "\r\n",
        "\r\n",
        "\t# Method to check if Stack is Empty or not \r\n",
        "\tdef isEmpty(self): \r\n",
        "\t\t# If top equals to None then stack is empty \r\n",
        "\t\tif self.top == None: \r\n",
        "\t\t\treturn True\r\n",
        "\t\telse: \r\n",
        "\t\t# If top not equal to None then stack is empty \r\n",
        "\t\t\treturn False\r\n",
        "\r\n",
        "\t# This method returns length of stack\t \r\n",
        "\tdef __len__(self): \r\n",
        "\t\tself.count = 0\r\n",
        "\t\ttempNode = self.top \r\n",
        "\t\twhile tempNode: \r\n",
        "\t\t\ttempNode = tempNode.next\r\n",
        "\t\t\tself.count+=1\r\n",
        "\t\treturn self.count \r\n",
        "\r\n",
        "\t# This method returns top of stack\t \r\n",
        "\tdef peek(self): \r\n",
        "\t\tif self.top is None: \r\n",
        "\t\t\tprint (\"Stack is empty\") \r\n",
        "\t\telse:\t \r\n",
        "\t\t\tif self.top.value > self.maximum: \r\n",
        "\t\t\t\tprint(\"Top Most Element is: {}\" .format(self.maximum)) \r\n",
        "\t\t\telse: \r\n",
        "\t\t\t\tprint(\"Top Most Element is: {}\" .format(self.top.value)) \r\n",
        "\r\n",
        "\t#This method is used to add node to stack \r\n",
        "\tdef push(self,value): \r\n",
        "\t\tif self.top is None: \r\n",
        "\t\t\tself.top = Node(value) \r\n",
        "\t\t\tself.maximum = value \r\n",
        "\t\t\t\r\n",
        "\t\telif value > self.maximum : \r\n",
        "\t\t\ttemp = (2 * value) - self.maximum \r\n",
        "\t\t\tnew_node = Node(temp) \r\n",
        "\t\t\tnew_node.next = self.top \r\n",
        "\t\t\tself.top = new_node \r\n",
        "\t\t\tself.maximum = value \r\n",
        "\t\telse: \r\n",
        "\t\t\tnew_node = Node(value) \r\n",
        "\t\t\tnew_node.next = self.top \r\n",
        "\t\t\tself.top = new_node \r\n",
        "\t\tprint(\"Number Inserted: {}\" .format(value)) \r\n",
        "\t\r\n",
        "\t#This method is used to pop top of stack \r\n",
        "\tdef pop(self): \r\n",
        "\t\tif self.top is None: \r\n",
        "\t\t\tprint( \"Stack is empty\") \r\n",
        "\t\telse: \r\n",
        "\t\t\tremovedNode = self.top.value \r\n",
        "\t\t\tself.top = self.top.next\r\n",
        "\t\t\tif removedNode > self.maximum: \r\n",
        "\t\t\t\tprint (\"Top Most Element Removed :{} \" .format(self.maximum)) \r\n",
        "\t\t\t\tself.maximum = ( ( 2 * self.maximum ) - removedNode ) \r\n",
        "\t\t\telse: \r\n",
        "\t\t\t\tprint (\"Top Most Element Removed : {}\" .format(removedNode)) \r\n",
        "\r\n",
        "\t\t\t\t\r\n",
        "\t\t\t\r\n",
        "\t\r\n",
        "# Driver program to test above class \r\n",
        "stack = Stack() \r\n",
        "\r\n",
        "stack.push(3) \r\n",
        "stack.push(5) \r\n",
        "stack.getMax() \r\n",
        "stack.push(7) \r\n",
        "stack.push(19) \r\n",
        "stack.getMax()\t \r\n",
        "stack.pop() \r\n",
        "stack.getMax() \r\n",
        "stack.pop() \r\n",
        "stack.peek() \r\n"
      ],
      "execution_count": 1,
      "outputs": [
        {
          "output_type": "stream",
          "text": [
            "Number Inserted: 3\n",
            "Number Inserted: 5\n",
            "Maximum Element in the stack is: 5\n",
            "Number Inserted: 7\n",
            "Number Inserted: 19\n",
            "Maximum Element in the stack is: 19\n",
            "Top Most Element Removed :19 \n",
            "Maximum Element in the stack is: 7\n",
            "Top Most Element Removed :7 \n",
            "Top Most Element is: 5\n"
          ],
          "name": "stdout"
        }
      ]
    },
    {
      "cell_type": "markdown",
      "metadata": {
        "id": "aU1Vktgui5Ui"
      },
      "source": [
        "Write a function to find the minimum element in the stack."
      ]
    },
    {
      "cell_type": "code",
      "metadata": {
        "colab": {
          "base_uri": "https://localhost:8080/"
        },
        "id": "CzdWhFhAilqQ",
        "outputId": "698a22d1-df80-4a22-c2b6-68c06c2a9601"
      },
      "source": [
        "from collections import deque\r\n",
        "\r\n",
        "\r\n",
        "class MinStack:\r\n",
        "    def __init__(self):\r\n",
        "\r\n",
        "        # main stack to store elements\r\n",
        "        self.s = deque()\r\n",
        "\r\n",
        "        # variable to store minimum element\r\n",
        "        self.min = None\r\n",
        "\r\n",
        "    # Inserts a given element on top of the stack\r\n",
        "    def push(self, x):\r\n",
        "\r\n",
        "        if not self.s:\r\n",
        "            self.s.append(x)\r\n",
        "            self.min = x\r\n",
        "\r\n",
        "        elif x > self.min:\r\n",
        "            self.s.append(x)\r\n",
        "\r\n",
        "        else:\r\n",
        "            self.s.append(2 * x - self.min)\r\n",
        "            self.min = x\r\n",
        "\r\n",
        "    # Removes top element from the stack and returns it\r\n",
        "    def pop(self):\r\n",
        "\r\n",
        "        if not self.s:\r\n",
        "            self.print(\"Stack underflow!!\")\r\n",
        "\r\n",
        "        top = self.s[-1]\r\n",
        "        if top < self.min:\r\n",
        "            self.min = 2 * self.min - top\r\n",
        "        self.s.pop()\r\n",
        "\r\n",
        "    # Returns the minimum element from the stack in constant time\r\n",
        "    def minimum(self):\r\n",
        "\r\n",
        "        return self.min\r\n",
        "\r\n",
        "\r\n",
        "if __name__ == '__main__':\r\n",
        "\r\n",
        "    s = MinStack()\r\n",
        "\r\n",
        "    s.push(6)\r\n",
        "    print(s.minimum())\r\n",
        "\r\n",
        "    s.push(7)\r\n",
        "    print(s.minimum())\r\n",
        "\r\n",
        "    s.push(5)\r\n",
        "    print(s.minimum())\r\n",
        "\r\n",
        "    s.push(3)\r\n",
        "    print(s.minimum())\r\n",
        "\r\n",
        "    s.pop()\r\n",
        "    print(s.minimum())\r\n",
        "\r\n",
        "    s.pop()\r\n",
        "    print(s.minimum())\r\n"
      ],
      "execution_count": 2,
      "outputs": [
        {
          "output_type": "stream",
          "text": [
            "6\n",
            "6\n",
            "5\n",
            "3\n",
            "5\n",
            "6\n"
          ],
          "name": "stdout"
        }
      ]
    }
  ]
}