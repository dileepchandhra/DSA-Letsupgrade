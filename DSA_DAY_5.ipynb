{
  "nbformat": 4,
  "nbformat_minor": 0,
  "metadata": {
    "colab": {
      "name": "DSA DAY 5.ipynb",
      "provenance": [],
      "authorship_tag": "ABX9TyNeFjiqEEhl0bq7U1i5QsLa",
      "include_colab_link": true
    },
    "kernelspec": {
      "name": "python3",
      "display_name": "Python 3"
    }
  },
  "cells": [
    {
      "cell_type": "markdown",
      "metadata": {
        "id": "view-in-github",
        "colab_type": "text"
      },
      "source": [
        "<a href=\"https://colab.research.google.com/github/dileepchandhra/DSA-Letsupgrade/blob/main/DSA_DAY_5.ipynb\" target=\"_parent\"><img src=\"https://colab.research.google.com/assets/colab-badge.svg\" alt=\"Open In Colab\"/></a>"
      ]
    },
    {
      "cell_type": "markdown",
      "metadata": {
        "id": "VwT5rdyvcEzv"
      },
      "source": [
        "1. Write the function for insertion sort."
      ]
    },
    {
      "cell_type": "code",
      "metadata": {
        "colab": {
          "base_uri": "https://localhost:8080/"
        },
        "id": "OeafvBlHbi9u",
        "outputId": "1190da81-9b79-4562-edc2-b404de32c32d"
      },
      "source": [
        " def insertionSort(arr): \r\n",
        " \r\n",
        "\tfor i in range(1, len(arr)): \r\n",
        "\r\n",
        "\t\tkey = arr[i] \r\n",
        "\r\n",
        "\t\t \r\n",
        "\t\tj = i-1\r\n",
        "\t\twhile j >=0 and key < arr[j] : \r\n",
        "\t\t\t\tarr[j+1] = arr[j] \r\n",
        "\t\t\t\tj -= 1\r\n",
        "\t\tarr[j+1] = key \r\n",
        "\r\n",
        "\r\n",
        "\r\n",
        "arr = [12, 11, 13, 5, 6] \r\n",
        "insertionSort(arr) \r\n",
        "print (\"Sorted array is:\") \r\n",
        "for i in range(len(arr)): \r\n",
        "\tprint (\"%d\" %arr[i]) \r\n",
        " "
      ],
      "execution_count": 3,
      "outputs": [
        {
          "output_type": "stream",
          "text": [
            "Sorted array is:\n",
            "5\n",
            "6\n",
            "11\n",
            "12\n",
            "13\n"
          ],
          "name": "stdout"
        }
      ]
    }
  ]
}