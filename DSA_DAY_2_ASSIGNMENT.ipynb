{
  "nbformat": 4,
  "nbformat_minor": 0,
  "metadata": {
    "colab": {
      "name": "DSA DAY 2 ASSIGNMENT.ipynb",
      "provenance": [],
      "authorship_tag": "ABX9TyOmEzQjXIE/ZCRqHxnPtWRc",
      "include_colab_link": true
    },
    "kernelspec": {
      "name": "python3",
      "display_name": "Python 3"
    }
  },
  "cells": [
    {
      "cell_type": "markdown",
      "metadata": {
        "id": "view-in-github",
        "colab_type": "text"
      },
      "source": [
        "<a href=\"https://colab.research.google.com/github/dileepchandhra/DSA-Letsupgrade/blob/main/DSA_DAY_2_ASSIGNMENT.ipynb\" target=\"_parent\"><img src=\"https://colab.research.google.com/assets/colab-badge.svg\" alt=\"Open In Colab\"/></a>"
      ]
    },
    {
      "cell_type": "markdown",
      "metadata": {
        "id": "CUAmWiPmsL4m"
      },
      "source": [
        "Deleting first element from an array"
      ]
    },
    {
      "cell_type": "code",
      "metadata": {
        "colab": {
          "base_uri": "https://localhost:8080/"
        },
        "id": "HGE6fDsnsBl7",
        "outputId": "ec5a7e9a-2fa3-4d37-e9ff-1be764747574"
      },
      "source": [
        "arr = ['a','b','c','d','e','f']\r\n",
        "arr.pop(0)\r\n",
        "arr"
      ],
      "execution_count": 1,
      "outputs": [
        {
          "output_type": "execute_result",
          "data": {
            "text/plain": [
              "['b', 'c', 'd', 'e', 'f']"
            ]
          },
          "metadata": {
            "tags": []
          },
          "execution_count": 1
        }
      ]
    },
    {
      "cell_type": "markdown",
      "metadata": {
        "id": "1lo-28mNsYUu"
      },
      "source": [
        "Deleting element from an array from any position"
      ]
    },
    {
      "cell_type": "code",
      "metadata": {
        "colab": {
          "base_uri": "https://localhost:8080/"
        },
        "id": "dtR7LLSVscMk",
        "outputId": "d6f05c35-eb22-42db-855e-9c796ed6f216"
      },
      "source": [
        "arr = ['a','b','c','d','e','f']\r\n",
        "del arr[3]\r\n",
        "arr"
      ],
      "execution_count": 2,
      "outputs": [
        {
          "output_type": "execute_result",
          "data": {
            "text/plain": [
              "['a', 'b', 'c', 'e', 'f']"
            ]
          },
          "metadata": {
            "tags": []
          },
          "execution_count": 2
        }
      ]
    },
    {
      "cell_type": "markdown",
      "metadata": {
        "id": "_NBpVBwVsytT"
      },
      "source": [
        "Printing array after k rotations"
      ]
    },
    {
      "cell_type": "code",
      "metadata": {
        "colab": {
          "base_uri": "https://localhost:8080/"
        },
        "id": "lDh2RCdxs7lL",
        "outputId": "ff4d8ef0-f0c2-4a7f-cab4-801ee590a16d"
      },
      "source": [
        "arr = ['a','b','c','d','e','f']\r\n",
        "arr1 = []\r\n",
        "k = int(input())\r\n",
        "m = (len(arr)-1)\r\n",
        "n = k % (m+1)\r\n",
        "print(\"Original array : \" ,arr)\r\n",
        "for i in range (0,n):\r\n",
        "  temp = arr[0]\r\n",
        "\r\n",
        "  for j in range (0,m):\r\n",
        "    arr[j]=arr[j+1]\r\n",
        "\r\n",
        "  arr[m]=temp\r\n",
        "\r\n",
        "print(\"Array after\" ,k , \"rotations :\" , arr)\r\n",
        "\r\n",
        "  "
      ],
      "execution_count": 13,
      "outputs": [
        {
          "output_type": "stream",
          "text": [
            "8\n",
            "Original array :  ['a', 'b', 'c', 'd', 'e', 'f']\n",
            "Array after 8 rotations : ['c', 'd', 'e', 'f', 'a', 'b']\n"
          ],
          "name": "stdout"
        }
      ]
    }
  ]
}