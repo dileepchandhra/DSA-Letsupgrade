{
  "nbformat": 4,
  "nbformat_minor": 0,
  "metadata": {
    "colab": {
      "name": "AI ML.ipynb",
      "provenance": [],
      "authorship_tag": "ABX9TyNS80OZd3yH3Vx34yA3jbxt",
      "include_colab_link": true
    },
    "kernelspec": {
      "name": "python3",
      "display_name": "Python 3"
    }
  },
  "cells": [
    {
      "cell_type": "markdown",
      "metadata": {
        "id": "view-in-github",
        "colab_type": "text"
      },
      "source": [
        "<a href=\"https://colab.research.google.com/github/dileepchandhra/DSA-Letsupgrade/blob/main/AI_ML.ipynb\" target=\"_parent\"><img src=\"https://colab.research.google.com/assets/colab-badge.svg\" alt=\"Open In Colab\"/></a>"
      ]
    },
    {
      "cell_type": "code",
      "metadata": {
        "colab": {
          "base_uri": "https://localhost:8080/"
        },
        "id": "1lY7TaxiDcPe",
        "outputId": "f6486443-e4b2-42e8-e9ec-a1f785092d27"
      },
      "source": [
        "print(\"Hella\")"
      ],
      "execution_count": 1,
      "outputs": [
        {
          "output_type": "stream",
          "text": [
            "Hella\n"
          ],
          "name": "stdout"
        }
      ]
    }
  ]
}