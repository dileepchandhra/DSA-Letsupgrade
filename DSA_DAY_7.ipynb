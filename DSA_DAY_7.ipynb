{
  "nbformat": 4,
  "nbformat_minor": 0,
  "metadata": {
    "colab": {
      "name": "DSA DAY 7.ipynb",
      "provenance": [],
      "authorship_tag": "ABX9TyO/DAvhy/VI2e0JHOQd22wY",
      "include_colab_link": true
    },
    "kernelspec": {
      "name": "python3",
      "display_name": "Python 3"
    }
  },
  "cells": [
    {
      "cell_type": "markdown",
      "metadata": {
        "id": "view-in-github",
        "colab_type": "text"
      },
      "source": [
        "<a href=\"https://colab.research.google.com/github/dileepchandhra/DSA-Letsupgrade/blob/main/DSA_DAY_7.ipynb\" target=\"_parent\"><img src=\"https://colab.research.google.com/assets/colab-badge.svg\" alt=\"Open In Colab\"/></a>"
      ]
    },
    {
      "cell_type": "markdown",
      "metadata": {
        "id": "mo2pP_E8j3Ft"
      },
      "source": [
        "Write a program implementing insert, delete and display operation of Circular Queue."
      ]
    },
    {
      "cell_type": "code",
      "metadata": {
        "colab": {
          "base_uri": "https://localhost:8080/"
        },
        "id": "MWG56Gg_jz4M",
        "outputId": "efecf147-ebf2-4456-c356-f64a862447fc"
      },
      "source": [
        "class CircularQueue(): \r\n",
        "\r\n",
        "\t# constructor \r\n",
        "\tdef __init__(self, size): # initializing the class \r\n",
        "\t\tself.size = size \r\n",
        "\t\t\r\n",
        "\t\t# initializing queue with none \r\n",
        "\t\tself.queue = [None for i in range(size)] \r\n",
        "\t\tself.front = self.rear = -1\r\n",
        "\r\n",
        "\tdef enqueue(self, data): \r\n",
        "\t\t\r\n",
        "\t\t# condition if queue is full \r\n",
        "\t\tif ((self.rear + 1) % self.size == self.front): \r\n",
        "\t\t\tprint(\" Queue is Full\\n\") \r\n",
        "\t\t\t\r\n",
        "\t\t# condition for empty queue \r\n",
        "\t\telif (self.front == -1): \r\n",
        "\t\t\tself.front = 0\r\n",
        "\t\t\tself.rear = 0\r\n",
        "\t\t\tself.queue[self.rear] = data \r\n",
        "\t\telse: \r\n",
        "\t\t\t\r\n",
        "\t\t\t# next position of rear \r\n",
        "\t\t\tself.rear = (self.rear + 1) % self.size \r\n",
        "\t\t\tself.queue[self.rear] = data \r\n",
        "\t\t\t\r\n",
        "\tdef dequeue(self): \r\n",
        "\t\tif (self.front == -1): # codition for empty queue \r\n",
        "\t\t\tprint (\"Queue is Empty\\n\") \r\n",
        "\t\t\t\r\n",
        "\t\t# condition for only one element \r\n",
        "\t\telif (self.front == self.rear): \r\n",
        "\t\t\ttemp=self.queue[self.front] \r\n",
        "\t\t\tself.front = -1\r\n",
        "\t\t\tself.rear = -1\r\n",
        "\t\t\treturn temp \r\n",
        "\t\telse: \r\n",
        "\t\t\ttemp = self.queue[self.front] \r\n",
        "\t\t\tself.front = (self.front + 1) % self.size \r\n",
        "\t\t\treturn temp \r\n",
        "\r\n",
        "\tdef display(self): \r\n",
        "\t\r\n",
        "\t\t# condition for empty queue \r\n",
        "\t\tif(self.front == -1): \r\n",
        "\t\t\tprint (\"Queue is Empty\") \r\n",
        "\r\n",
        "\t\telif (self.rear >= self.front): \r\n",
        "\t\t\tprint(\"Elements in the circular queue are:\", \r\n",
        "\t\t\t\t\t\t\t\t\t\t\tend = \" \") \r\n",
        "\t\t\tfor i in range(self.front, self.rear + 1): \r\n",
        "\t\t\t\tprint(self.queue[i], end = \" \") \r\n",
        "\t\t\tprint () \r\n",
        "\r\n",
        "\t\telse: \r\n",
        "\t\t\tprint (\"Elements in Circular Queue are:\", \r\n",
        "\t\t\t\t\t\t\t\t\t\tend = \" \") \r\n",
        "\t\t\tfor i in range(self.front, self.size): \r\n",
        "\t\t\t\tprint(self.queue[i], end = \" \") \r\n",
        "\t\t\tfor i in range(0, self.rear + 1): \r\n",
        "\t\t\t\tprint(self.queue[i], end = \" \") \r\n",
        "\t\t\tprint () \r\n",
        "\r\n",
        "\t\tif ((self.rear + 1) % self.size == self.front): \r\n",
        "\t\t\tprint(\"Queue is Full\") \r\n",
        "\r\n",
        "# Driver Code \r\n",
        "ob = CircularQueue(5) \r\n",
        "ob.enqueue(14) \r\n",
        "ob.enqueue(22) \r\n",
        "ob.enqueue(13) \r\n",
        "ob.enqueue(-6) \r\n",
        "ob.display() \r\n",
        "print (\"Deleted value = \", ob.dequeue()) \r\n",
        "print (\"Deleted value = \", ob.dequeue()) \r\n",
        "ob.display() \r\n",
        "ob.enqueue(9) \r\n",
        "ob.enqueue(20) \r\n",
        "ob.enqueue(5) \r\n",
        "ob.display() \r\n"
      ],
      "execution_count": 1,
      "outputs": [
        {
          "output_type": "stream",
          "text": [
            "Elements in the circular queue are: 14 22 13 -6 \n",
            "Deleted value =  14\n",
            "Deleted value =  22\n",
            "Elements in the circular queue are: 13 -6 \n",
            "Elements in Circular Queue are: 13 -6 9 20 5 \n",
            "Queue is Full\n"
          ],
          "name": "stdout"
        }
      ]
    }
  ]
}