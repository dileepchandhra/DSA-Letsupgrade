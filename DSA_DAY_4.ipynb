{
  "nbformat": 4,
  "nbformat_minor": 0,
  "metadata": {
    "colab": {
      "name": "DSA DAY 4.ipynb",
      "provenance": [],
      "authorship_tag": "ABX9TyOFgTsLz1Z11QNwQWJB1nNz",
      "include_colab_link": true
    },
    "kernelspec": {
      "name": "python3",
      "display_name": "Python 3"
    }
  },
  "cells": [
    {
      "cell_type": "markdown",
      "metadata": {
        "id": "view-in-github",
        "colab_type": "text"
      },
      "source": [
        "<a href=\"https://colab.research.google.com/github/dileepchandhra/DSA-Letsupgrade/blob/main/DSA_DAY_4.ipynb\" target=\"_parent\"><img src=\"https://colab.research.google.com/assets/colab-badge.svg\" alt=\"Open In Colab\"/></a>"
      ]
    },
    {
      "cell_type": "markdown",
      "metadata": {
        "id": "208K6BuDfocy"
      },
      "source": [
        "1 . In the Binary Search algorithm, it is suggested to calculate the mid as\r\n",
        "beg + (end - beg) / 2 instead of (beg + end) / 2. Why is it so?"
      ]
    },
    {
      "cell_type": "markdown",
      "metadata": {
        "id": "HgqK5-bQe6hz"
      },
      "source": [
        "The very first way of finding middle index is\r\n",
        "\r\n",
        "**mid = (start + end)/2**\r\n",
        "\r\n",
        "But there is problem with this approach, what if value of start or end or both is INT_MAX, it will cause integer overflow.\r\n",
        "\r\n",
        "The better way of calculating mid index is :\r\n",
        "\r\n",
        "**mid = start + (end - start)/2**"
      ]
    },
    {
      "cell_type": "markdown",
      "metadata": {
        "id": "scHu6xrme2ZV"
      },
      "source": [
        "2 . Write the algorithm/function for Ternary Search."
      ]
    },
    {
      "cell_type": "code",
      "metadata": {
        "colab": {
          "base_uri": "https://localhost:8080/"
        },
        "id": "R7zD-CWBccRt",
        "outputId": "0b54973c-9290-45fd-e754-a29121b19a66"
      },
      "source": [
        "def ternarySearch(l, r, key, ar):\r\n",
        "\twhile r >= l:\r\n",
        "\t\t\r\n",
        "\t\t# Find mid1 and mid2\r\n",
        "\t\tmid1 = l + (r-l) // 3\r\n",
        "\t\tmid2 = r - (r-l) // 3\r\n",
        "\r\n",
        "\t\tif key == ar[mid1]:\r\n",
        "\t\t\treturn mid1\r\n",
        "\t\tif key == mid2:\r\n",
        "\t\t\treturn mid2\r\n",
        "\r\n",
        "\t\tif key < ar[mid1]:\r\n",
        "\t\t\t# key lies between l and mid1\r\n",
        "\t\t\tr = mid1 - 1\r\n",
        "\t\telif key > ar[mid2]:\r\n",
        "\t\t\t# key lies between mid2 and r\r\n",
        "\t\t\tl = mid2 + 1\r\n",
        "\t\telse:\r\n",
        "\t\t\t# key lies between mid1 and mid2\r\n",
        "\t\t\tl = mid1 + 1\r\n",
        "\t\t\tr = mid2 - 1\r\n",
        "\r\n",
        "\t# key not found\r\n",
        "\treturn -1\r\n",
        "\r\n",
        "# Sort the list if not sorted\r\n",
        "ar = [1, 4, 7 , 9 , 54 , 65 , 98 ,99 , 120 , 144]\r\n",
        "\r\n",
        "l = 0\r\n",
        "\r\n",
        "r = 9\r\n",
        "\r\n",
        "key = int(input())\r\n",
        "\r\n",
        "p = ternarySearch(l, r, key, ar)\r\n",
        "\r\n",
        "print(\"Index of\", key, \"is\", p)\r\n",
        "\r\n",
        "key = int(input())\r\n",
        "\r\n",
        "p = ternarySearch(l, r, key, ar)\r\n",
        "\r\n",
        "print(\"Index of\", key, \"is\", p)\r\n"
      ],
      "execution_count": 5,
      "outputs": [
        {
          "output_type": "stream",
          "text": [
            "77\n",
            "Index of 77 is -1\n",
            "99\n",
            "Index of 99 is 7\n"
          ],
          "name": "stdout"
        }
      ]
    }
  ]
}